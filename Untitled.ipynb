{
 "cells": [
  {
   "cell_type": "code",
   "execution_count": 1,
   "id": "f71017e2-8d40-4160-a155-c3c384c56790",
   "metadata": {},
   "outputs": [],
   "source": [
    "#importing important modules\n",
    "\n",
    "import pandas as pd\n",
    "import geopandas as gpd\n",
    "from pyproj import CRS\n",
    "import matplotlib.pyplot as plt\n",
    "import folium\n",
    "import geobr\n",
    "import contextily as ctx\n",
    "import shapely.speedups\n",
    "%matplotlib inline\n"
   ]
  },
  {
   "cell_type": "code",
   "execution_count": 3,
   "id": "9231932d-9a0e-48f5-99cb-54daf435a9dc",
   "metadata": {},
   "outputs": [],
   "source": [
    "# Reading the area of São Paulo's municipality\n",
    "muni = geobr.read_municipality(code_muni=3550308, year=2010)\n",
    "muni.crs= CRS.from_epsg(4674)"
   ]
  },
  {
   "cell_type": "code",
   "execution_count": 4,
   "id": "74578cbb-5892-4e5b-815f-b7e7731629ff",
   "metadata": {},
   "outputs": [
    {
     "data": {
      "text/plain": [
       "Index(['code_cnes', 'code_muni', 'code_state', 'abbrev_state', 'date_update',\n",
       "       'year_update', 'data_source', 'geometry'],\n",
       "      dtype='object')"
      ]
     },
     "execution_count": 4,
     "metadata": {},
     "output_type": "execute_result"
    }
   ],
   "source": [
    "# Reading the health facilities location\n",
    "health_fac = geobr.read_health_facilities()\n",
    "\n",
    "# Converting to the same CRS from São Paulo\n",
    "health_fac.crs = CRS.from_epsg(4674)\n",
    "\n",
    "health_fac.columns"
   ]
  },
  {
   "cell_type": "code",
   "execution_count": null,
   "id": "bf4b8743-a400-445f-bd00-f8e068969341",
   "metadata": {},
   "outputs": [],
   "source": [
    "# Selection only the health facilites from São Paulo\n",
    "health_fac = gpd.overlay(health_fac, muni, how = 'intersection')\n",
    "health_fac = health_fac.dropna()"
   ]
  }
 ],
 "metadata": {
  "kernelspec": {
   "display_name": "Python 3 (ipykernel)",
   "language": "python",
   "name": "python3"
  },
  "language_info": {
   "codemirror_mode": {
    "name": "ipython",
    "version": 3
   },
   "file_extension": ".py",
   "mimetype": "text/x-python",
   "name": "python",
   "nbconvert_exporter": "python",
   "pygments_lexer": "ipython3",
   "version": "3.10.0"
  }
 },
 "nbformat": 4,
 "nbformat_minor": 5
}
